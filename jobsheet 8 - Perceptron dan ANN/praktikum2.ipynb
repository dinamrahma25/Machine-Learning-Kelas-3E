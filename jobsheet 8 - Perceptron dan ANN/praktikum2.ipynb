{
 "cells": [
  {
   "cell_type": "code",
   "execution_count": 1,
   "metadata": {},
   "outputs": [],
   "source": [
    "from sklearn.datasets import fetch_20newsgroups # download dataset\n",
    "from sklearn.feature_extraction.text import TfidfVectorizer\n",
    "from sklearn.linear_model import Perceptron\n",
    "from sklearn.metrics import f1_score, classification_report"
   ]
  },
  {
   "cell_type": "markdown",
   "metadata": {},
   "source": [
    "Kode ini menggunakan library scikit-learn untuk mengunduh dataset 20 Newsgroups, melakukan ekstraksi fitur TF-IDF, membuat model Perceptron, melatih model Perceptron, memprediksi label kelas data uji, dan mengevaluasi kinerja model Perceptron."
   ]
  },
  {
   "cell_type": "code",
   "execution_count": 2,
   "metadata": {},
   "outputs": [],
   "source": [
    "categories = ['rec.sport.hockey', 'rec.sport.baseball', 'rec.autos']\n",
    "newsgroups_train = fetch_20newsgroups(subset='train', categories=categories, remove=('headers', 'footers', 'quotes'))\n",
    "newsgroups_test = fetch_20newsgroups(subset='test', categories=categories, remove=('headers', 'footers', 'quotes'))"
   ]
  },
  {
   "cell_type": "markdown",
   "metadata": {},
   "source": [
    "1. 'categories = ['rec.sport.hockey', 'rec.sport.baseball', 'rec.autos']' Mendefinisikan daftar kategori yang akan digunakan untuk mengunduh dataset 20 Newsgroups.\n",
    "\n",
    "2. 'newsgroups_train = fetch_20newsgroups(subset='train', categories=categories, remove=('headers', 'footers', 'quotes'))' fungsi fetch_20newsgroups() untuk mengunduh dataset 20 Newsgroups untuk data uji, dengan kategori yang telah didefinisikan pada baris 1, dan menghapus header, footer, dan kutipan dari setiap posting berita.\n",
    "\n",
    "3. 'newsgroups_test = fetch_20newsgroups(subset='test', categories=categories, remove=('headers', 'footers', 'quotes'))' Sama dengan sebelumnya, tetapi perbedaannya adalah data ini biasa digunakan untuk penelitian dan eksperimen klasifikasi teks."
   ]
  },
  {
   "cell_type": "code",
   "execution_count": 3,
   "metadata": {},
   "outputs": [
    {
     "name": "stdout",
     "output_type": "stream",
     "text": [
      "              precision    recall  f1-score   support\n",
      "\n",
      "           0       0.88      0.88      0.88       396\n",
      "           1       0.82      0.83      0.83       397\n",
      "           2       0.88      0.87      0.87       399\n",
      "\n",
      "    accuracy                           0.86      1192\n",
      "   macro avg       0.86      0.86      0.86      1192\n",
      "weighted avg       0.86      0.86      0.86      1192\n",
      "\n"
     ]
    }
   ],
   "source": [
    "# Ekstrak Fitur\n",
    "vectorizer = TfidfVectorizer()\n",
    "\n",
    "# Fit fitur\n",
    "X_train = vectorizer.fit_transform(newsgroups_train.data)\n",
    "X_test = vectorizer.transform(newsgroups_test.data)\n",
    "\n",
    "# Fit Model\n",
    "clf = Perceptron(random_state=11)\n",
    "clf.fit(X_train, newsgroups_train.target)\n",
    "\n",
    "# Prediksi\n",
    "predictions = clf.predict(X_test)\n",
    "print(classification_report(newsgroups_test.target, predictions))"
   ]
  },
  {
   "cell_type": "markdown",
   "metadata": {},
   "source": [
    "1. Mengimpor kelas TfidfVectorizer dari library sklearn.feature_extraction.text.\n",
    "\n",
    "2. Membuat objek TfidfVectorizer().\n",
    "\n",
    "3. Menggunakan objek TfidfVectorizer() untuk mengekstrak fitur TF-IDF dari data latih dan data uji. Fitur TF-IDF adalah metode untuk mengubah teks menjadi vektor numerik. Vektor TF-IDF berisi informasi tentang frekuensi setiap kata dalam teks dan pentingnya kata tersebut dalam teks.\n",
    "\n",
    "4. Menyimpan fitur TF-IDF dari data latih dan data uji ke dalam variabel X_train dan X_test, masing-masing.\n",
    "\n",
    "5. Mengimpor kelas Perceptron dari library sklearn.linear_model.\n",
    "\n",
    "6. Membuat objek Perceptron() dengan parameter random_state=11. Parameter random_state digunakan untuk memastikan bahwa hasil eksperimen dapat direproduksi.\n",
    "\n",
    "7.  Melatih model Perceptron pada data latih X_train dan label kelas newsgroups_train.target.\n",
    "\n",
    "8. Memprediksi label kelas data uji X_test menggunakan model Perceptron yang telah dilatih.\n",
    "\n",
    "9. Mencetak laporan klasifikasi yang berisi informasi tentang akurasi, presisi, recall, dan F1 score untuk setiap kelas."
   ]
  }
 ],
 "metadata": {
  "kernelspec": {
   "display_name": "base",
   "language": "python",
   "name": "python3"
  },
  "language_info": {
   "codemirror_mode": {
    "name": "ipython",
    "version": 3
   },
   "file_extension": ".py",
   "mimetype": "text/x-python",
   "name": "python",
   "nbconvert_exporter": "python",
   "pygments_lexer": "ipython3",
   "version": "3.11.4"
  }
 },
 "nbformat": 4,
 "nbformat_minor": 2
}
