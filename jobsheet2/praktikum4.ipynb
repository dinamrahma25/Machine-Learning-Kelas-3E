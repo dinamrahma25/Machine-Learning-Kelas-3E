{
 "cells": [
  {
   "cell_type": "code",
   "execution_count": 2,
   "metadata": {},
   "outputs": [
    {
     "name": "stdout",
     "output_type": "stream",
     "text": [
      "Requirement already satisfied: Pillow in c:\\users\\hp\\anaconda3\\lib\\site-packages (9.4.0)Note: you may need to restart the kernel to use updated packages.\n",
      "\n",
      "256\n",
      "[0, 0, 0, 0, 0, 0, 0, 0, 0, 0, 0, 0, 0, 0, 0, 0, 0, 0, 0, 0, 0, 0, 0, 0, 0, 0, 0, 0, 0, 0, 0, 0, 0, 0, 0, 0, 0, 0, 0, 0, 0, 0, 0, 0, 0, 0, 0, 0, 0, 0, 0, 0, 0, 0, 1, 0, 1, 1, 1, 8, 6, 10, 9, 20, 37, 32, 41, 53, 74, 103, 132, 179, 193, 242, 238, 336, 386, 404, 483, 607, 628, 771, 785, 1001, 1016, 1177, 1269, 1332, 1446, 1487, 1457, 1574, 1585, 1591, 1557, 1569, 1660, 1648, 1420, 1559, 1418, 1384, 1319, 1342, 1156, 1120, 955, 969, 828, 782, 752, 737, 719, 700, 628, 673, 587, 617, 610, 592, 557, 593, 552, 566, 582, 559, 571, 520, 664, 650, 618, 730, 594, 667, 675, 685, 771, 715, 667, 740, 744, 766, 765, 772, 817, 817, 744, 806, 760, 777, 812, 797, 799, 861, 814, 910, 907, 918, 888, 1011, 879, 996, 912, 952, 884, 1074, 977, 1073, 1040, 1216, 1250, 1403, 1534, 1639, 1682, 1776, 1874, 1769, 1582, 1743, 1441, 1477, 1483, 1409, 1437, 1449, 1389, 1479, 1592, 1655, 1657, 1666, 1857, 1896, 1813, 1979, 1814, 1956, 1928, 2055, 2012, 2303, 2333, 2670, 2787, 3232, 3154, 3476, 3424, 3516, 3102, 3176, 2787, 2885, 2630, 2731, 2664, 2955, 2955, 3360, 3554, 4138, 3987, 4057, 4327, 3713, 3185, 2929, 2551, 2432, 2195, 2256, 1960, 2126, 2186, 2265, 2417, 2445, 2282, 1826, 1972, 1456, 1137, 986, 748, 749, 667, 582, 428, 357, 313, 302, 242, 178, 67, 112]\n"
     ]
    }
   ],
   "source": [
    "%pip install Pillow\n",
    "from PIL import Image\n",
    " \n",
    "img = Image.open('Lenna_(test_image).png')\n",
    "img.show() # tampilkan gambar\n",
    "\n",
    "# Ekstrak setiap channel red, green, blue\n",
    "r, g, b = img.split()\n",
    "\n",
    "# Cek panjang ukuran channel red\n",
    "print(len(r.histogram()))\n",
    "\n",
    "# Cetak fitur histogram pada channel red\n",
    "print(r.histogram())"
   ]
  },
  {
   "cell_type": "markdown",
   "metadata": {},
   "source": [
    "Kode yang Anda berikan adalah contoh penggunaan library Pillow (PIL), yang digunakan untuk bekerja dengan gambar dalam bahasa pemrograman Python. Berikut adalah penjelasan untuk setiap bagian kode:\n",
    "\n",
    "1. `%pip install Pillow`: Ini adalah perintah untuk menginstal library Pillow jika belum terinstal. `%pip` adalah magic command dalam IPython atau Jupyter Notebook yang digunakan untuk menginstal paket Python. Anda hanya perlu menjalankan perintah ini jika Anda belum memiliki library Pillow di lingkungan Python Anda.\n",
    "\n",
    "2. `from PIL import Image`: Pada baris ini, Anda mengimpor modul `Image` dari library Pillow. Modul ini memungkinkan Anda untuk membuka, memanipulasi, dan menampilkan gambar.\n",
    "\n",
    "3. `img = Image.open('Lenna_(test_image).png')`: Baris ini digunakan untuk membuka sebuah gambar dengan nama file 'Lenna_(test_image).png' dan menyimpannya dalam variabel `img`. Fungsi `Image.open()` digunakan untuk membaca gambar dari file.\n",
    "\n",
    "4. `img.show()`: Ini adalah perintah untuk menampilkan gambar yang telah dibuka menggunakan aplikasi default yang terkait dengan gambar di sistem Anda. Ini memungkinkan Anda untuk melihat gambar tersebut.\n",
    "\n",
    "5. `r, g, b = img.split()`: Baris ini mengambil gambar yang telah dibuka dan memisahkan tiga channel warna, yaitu red (merah), green (hijau), dan blue (biru), dan menyimpannya masing-masing dalam variabel `r`, `g`, dan `b`. Ini memungkinkan Anda untuk mengakses dan memproses setiap channel secara terpisah.\n",
    "\n",
    "6. `print(len(r.histogram()))`: Ini adalah perintah untuk mencetak panjang histogram dari channel warna merah (`r`). Histogram adalah representasi distribusi intensitas warna dalam gambar. Ini memberikan jumlah piksel dengan nilai intensitas tertentu dalam channel merah.\n",
    "\n",
    "7. `print(r.histogram())`: Baris ini mencetak histogram dari channel warna merah (`r`). Histogram ini berisi informasi tentang berapa banyak piksel yang memiliki intensitas warna tertentu dalam gambar.\n",
    "\n",
    "Kode ini membuka gambar, memisahkan channel warna, dan mencetak histogram dari channel warna merah. Ini adalah contoh penggunaan dasar dari library Pillow untuk analisis gambar sederhana."
   ]
  }
 ],
 "metadata": {
  "kernelspec": {
   "display_name": "base",
   "language": "python",
   "name": "python3"
  },
  "language_info": {
   "codemirror_mode": {
    "name": "ipython",
    "version": 3
   },
   "file_extension": ".py",
   "mimetype": "text/x-python",
   "name": "python",
   "nbconvert_exporter": "python",
   "pygments_lexer": "ipython3",
   "version": "3.11.4"
  },
  "orig_nbformat": 4
 },
 "nbformat": 4,
 "nbformat_minor": 2
}
