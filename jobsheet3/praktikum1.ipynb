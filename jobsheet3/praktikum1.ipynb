{
 "cells": [
  {
   "cell_type": "code",
   "execution_count": 5,
   "metadata": {},
   "outputs": [
    {
     "ename": "FileNotFoundError",
     "evalue": "[Errno 2] No such file or directory: 'Posis_gaji.csv'",
     "output_type": "error",
     "traceback": [
      "\u001b[1;31m---------------------------------------------------------------------------\u001b[0m",
      "\u001b[1;31mFileNotFoundError\u001b[0m                         Traceback (most recent call last)",
      "\u001b[1;32md:\\python\\jobsheet3\\praktikum1.ipynb Cell 1\u001b[0m line \u001b[0;36m6\n\u001b[0;32m      <a href='vscode-notebook-cell:/d%3A/python/jobsheet3/praktikum1.ipynb#W0sZmlsZQ%3D%3D?line=2'>3</a>\u001b[0m \u001b[39mimport\u001b[39;00m \u001b[39mpandas\u001b[39;00m \u001b[39mas\u001b[39;00m \u001b[39mpd\u001b[39;00m\n\u001b[0;32m      <a href='vscode-notebook-cell:/d%3A/python/jobsheet3/praktikum1.ipynb#W0sZmlsZQ%3D%3D?line=4'>5</a>\u001b[0m \u001b[39m# baca data dari file CSV\u001b[39;00m\n\u001b[1;32m----> <a href='vscode-notebook-cell:/d%3A/python/jobsheet3/praktikum1.ipynb#W0sZmlsZQ%3D%3D?line=5'>6</a>\u001b[0m data \u001b[39m=\u001b[39m pd\u001b[39m.\u001b[39mread_csv(\u001b[39m'\u001b[39m\u001b[39mPosis_gaji.csv\u001b[39m\u001b[39m'\u001b[39m)\n\u001b[0;32m      <a href='vscode-notebook-cell:/d%3A/python/jobsheet3/praktikum1.ipynb#W0sZmlsZQ%3D%3D?line=6'>7</a>\u001b[0m \u001b[39m# melihat beberapa data awal\u001b[39;00m\n\u001b[0;32m      <a href='vscode-notebook-cell:/d%3A/python/jobsheet3/praktikum1.ipynb#W0sZmlsZQ%3D%3D?line=7'>8</a>\u001b[0m data\u001b[39m.\u001b[39mhead()\n",
      "File \u001b[1;32mc:\\Users\\hp\\anaconda3\\Lib\\site-packages\\pandas\\util\\_decorators.py:211\u001b[0m, in \u001b[0;36mdeprecate_kwarg.<locals>._deprecate_kwarg.<locals>.wrapper\u001b[1;34m(*args, **kwargs)\u001b[0m\n\u001b[0;32m    209\u001b[0m     \u001b[39melse\u001b[39;00m:\n\u001b[0;32m    210\u001b[0m         kwargs[new_arg_name] \u001b[39m=\u001b[39m new_arg_value\n\u001b[1;32m--> 211\u001b[0m \u001b[39mreturn\u001b[39;00m func(\u001b[39m*\u001b[39margs, \u001b[39m*\u001b[39m\u001b[39m*\u001b[39mkwargs)\n",
      "File \u001b[1;32mc:\\Users\\hp\\anaconda3\\Lib\\site-packages\\pandas\\util\\_decorators.py:331\u001b[0m, in \u001b[0;36mdeprecate_nonkeyword_arguments.<locals>.decorate.<locals>.wrapper\u001b[1;34m(*args, **kwargs)\u001b[0m\n\u001b[0;32m    325\u001b[0m \u001b[39mif\u001b[39;00m \u001b[39mlen\u001b[39m(args) \u001b[39m>\u001b[39m num_allow_args:\n\u001b[0;32m    326\u001b[0m     warnings\u001b[39m.\u001b[39mwarn(\n\u001b[0;32m    327\u001b[0m         msg\u001b[39m.\u001b[39mformat(arguments\u001b[39m=\u001b[39m_format_argument_list(allow_args)),\n\u001b[0;32m    328\u001b[0m         \u001b[39mFutureWarning\u001b[39;00m,\n\u001b[0;32m    329\u001b[0m         stacklevel\u001b[39m=\u001b[39mfind_stack_level(),\n\u001b[0;32m    330\u001b[0m     )\n\u001b[1;32m--> 331\u001b[0m \u001b[39mreturn\u001b[39;00m func(\u001b[39m*\u001b[39margs, \u001b[39m*\u001b[39m\u001b[39m*\u001b[39mkwargs)\n",
      "File \u001b[1;32mc:\\Users\\hp\\anaconda3\\Lib\\site-packages\\pandas\\io\\parsers\\readers.py:950\u001b[0m, in \u001b[0;36mread_csv\u001b[1;34m(filepath_or_buffer, sep, delimiter, header, names, index_col, usecols, squeeze, prefix, mangle_dupe_cols, dtype, engine, converters, true_values, false_values, skipinitialspace, skiprows, skipfooter, nrows, na_values, keep_default_na, na_filter, verbose, skip_blank_lines, parse_dates, infer_datetime_format, keep_date_col, date_parser, dayfirst, cache_dates, iterator, chunksize, compression, thousands, decimal, lineterminator, quotechar, quoting, doublequote, escapechar, comment, encoding, encoding_errors, dialect, error_bad_lines, warn_bad_lines, on_bad_lines, delim_whitespace, low_memory, memory_map, float_precision, storage_options)\u001b[0m\n\u001b[0;32m    935\u001b[0m kwds_defaults \u001b[39m=\u001b[39m _refine_defaults_read(\n\u001b[0;32m    936\u001b[0m     dialect,\n\u001b[0;32m    937\u001b[0m     delimiter,\n\u001b[1;32m   (...)\u001b[0m\n\u001b[0;32m    946\u001b[0m     defaults\u001b[39m=\u001b[39m{\u001b[39m\"\u001b[39m\u001b[39mdelimiter\u001b[39m\u001b[39m\"\u001b[39m: \u001b[39m\"\u001b[39m\u001b[39m,\u001b[39m\u001b[39m\"\u001b[39m},\n\u001b[0;32m    947\u001b[0m )\n\u001b[0;32m    948\u001b[0m kwds\u001b[39m.\u001b[39mupdate(kwds_defaults)\n\u001b[1;32m--> 950\u001b[0m \u001b[39mreturn\u001b[39;00m _read(filepath_or_buffer, kwds)\n",
      "File \u001b[1;32mc:\\Users\\hp\\anaconda3\\Lib\\site-packages\\pandas\\io\\parsers\\readers.py:605\u001b[0m, in \u001b[0;36m_read\u001b[1;34m(filepath_or_buffer, kwds)\u001b[0m\n\u001b[0;32m    602\u001b[0m _validate_names(kwds\u001b[39m.\u001b[39mget(\u001b[39m\"\u001b[39m\u001b[39mnames\u001b[39m\u001b[39m\"\u001b[39m, \u001b[39mNone\u001b[39;00m))\n\u001b[0;32m    604\u001b[0m \u001b[39m# Create the parser.\u001b[39;00m\n\u001b[1;32m--> 605\u001b[0m parser \u001b[39m=\u001b[39m TextFileReader(filepath_or_buffer, \u001b[39m*\u001b[39m\u001b[39m*\u001b[39mkwds)\n\u001b[0;32m    607\u001b[0m \u001b[39mif\u001b[39;00m chunksize \u001b[39mor\u001b[39;00m iterator:\n\u001b[0;32m    608\u001b[0m     \u001b[39mreturn\u001b[39;00m parser\n",
      "File \u001b[1;32mc:\\Users\\hp\\anaconda3\\Lib\\site-packages\\pandas\\io\\parsers\\readers.py:1442\u001b[0m, in \u001b[0;36mTextFileReader.__init__\u001b[1;34m(self, f, engine, **kwds)\u001b[0m\n\u001b[0;32m   1439\u001b[0m     \u001b[39mself\u001b[39m\u001b[39m.\u001b[39moptions[\u001b[39m\"\u001b[39m\u001b[39mhas_index_names\u001b[39m\u001b[39m\"\u001b[39m] \u001b[39m=\u001b[39m kwds[\u001b[39m\"\u001b[39m\u001b[39mhas_index_names\u001b[39m\u001b[39m\"\u001b[39m]\n\u001b[0;32m   1441\u001b[0m \u001b[39mself\u001b[39m\u001b[39m.\u001b[39mhandles: IOHandles \u001b[39m|\u001b[39m \u001b[39mNone\u001b[39;00m \u001b[39m=\u001b[39m \u001b[39mNone\u001b[39;00m\n\u001b[1;32m-> 1442\u001b[0m \u001b[39mself\u001b[39m\u001b[39m.\u001b[39m_engine \u001b[39m=\u001b[39m \u001b[39mself\u001b[39m\u001b[39m.\u001b[39m_make_engine(f, \u001b[39mself\u001b[39m\u001b[39m.\u001b[39mengine)\n",
      "File \u001b[1;32mc:\\Users\\hp\\anaconda3\\Lib\\site-packages\\pandas\\io\\parsers\\readers.py:1735\u001b[0m, in \u001b[0;36mTextFileReader._make_engine\u001b[1;34m(self, f, engine)\u001b[0m\n\u001b[0;32m   1733\u001b[0m     \u001b[39mif\u001b[39;00m \u001b[39m\"\u001b[39m\u001b[39mb\u001b[39m\u001b[39m\"\u001b[39m \u001b[39mnot\u001b[39;00m \u001b[39min\u001b[39;00m mode:\n\u001b[0;32m   1734\u001b[0m         mode \u001b[39m+\u001b[39m\u001b[39m=\u001b[39m \u001b[39m\"\u001b[39m\u001b[39mb\u001b[39m\u001b[39m\"\u001b[39m\n\u001b[1;32m-> 1735\u001b[0m \u001b[39mself\u001b[39m\u001b[39m.\u001b[39mhandles \u001b[39m=\u001b[39m get_handle(\n\u001b[0;32m   1736\u001b[0m     f,\n\u001b[0;32m   1737\u001b[0m     mode,\n\u001b[0;32m   1738\u001b[0m     encoding\u001b[39m=\u001b[39m\u001b[39mself\u001b[39m\u001b[39m.\u001b[39moptions\u001b[39m.\u001b[39mget(\u001b[39m\"\u001b[39m\u001b[39mencoding\u001b[39m\u001b[39m\"\u001b[39m, \u001b[39mNone\u001b[39;00m),\n\u001b[0;32m   1739\u001b[0m     compression\u001b[39m=\u001b[39m\u001b[39mself\u001b[39m\u001b[39m.\u001b[39moptions\u001b[39m.\u001b[39mget(\u001b[39m\"\u001b[39m\u001b[39mcompression\u001b[39m\u001b[39m\"\u001b[39m, \u001b[39mNone\u001b[39;00m),\n\u001b[0;32m   1740\u001b[0m     memory_map\u001b[39m=\u001b[39m\u001b[39mself\u001b[39m\u001b[39m.\u001b[39moptions\u001b[39m.\u001b[39mget(\u001b[39m\"\u001b[39m\u001b[39mmemory_map\u001b[39m\u001b[39m\"\u001b[39m, \u001b[39mFalse\u001b[39;00m),\n\u001b[0;32m   1741\u001b[0m     is_text\u001b[39m=\u001b[39mis_text,\n\u001b[0;32m   1742\u001b[0m     errors\u001b[39m=\u001b[39m\u001b[39mself\u001b[39m\u001b[39m.\u001b[39moptions\u001b[39m.\u001b[39mget(\u001b[39m\"\u001b[39m\u001b[39mencoding_errors\u001b[39m\u001b[39m\"\u001b[39m, \u001b[39m\"\u001b[39m\u001b[39mstrict\u001b[39m\u001b[39m\"\u001b[39m),\n\u001b[0;32m   1743\u001b[0m     storage_options\u001b[39m=\u001b[39m\u001b[39mself\u001b[39m\u001b[39m.\u001b[39moptions\u001b[39m.\u001b[39mget(\u001b[39m\"\u001b[39m\u001b[39mstorage_options\u001b[39m\u001b[39m\"\u001b[39m, \u001b[39mNone\u001b[39;00m),\n\u001b[0;32m   1744\u001b[0m )\n\u001b[0;32m   1745\u001b[0m \u001b[39massert\u001b[39;00m \u001b[39mself\u001b[39m\u001b[39m.\u001b[39mhandles \u001b[39mis\u001b[39;00m \u001b[39mnot\u001b[39;00m \u001b[39mNone\u001b[39;00m\n\u001b[0;32m   1746\u001b[0m f \u001b[39m=\u001b[39m \u001b[39mself\u001b[39m\u001b[39m.\u001b[39mhandles\u001b[39m.\u001b[39mhandle\n",
      "File \u001b[1;32mc:\\Users\\hp\\anaconda3\\Lib\\site-packages\\pandas\\io\\common.py:856\u001b[0m, in \u001b[0;36mget_handle\u001b[1;34m(path_or_buf, mode, encoding, compression, memory_map, is_text, errors, storage_options)\u001b[0m\n\u001b[0;32m    851\u001b[0m \u001b[39melif\u001b[39;00m \u001b[39misinstance\u001b[39m(handle, \u001b[39mstr\u001b[39m):\n\u001b[0;32m    852\u001b[0m     \u001b[39m# Check whether the filename is to be opened in binary mode.\u001b[39;00m\n\u001b[0;32m    853\u001b[0m     \u001b[39m# Binary mode does not support 'encoding' and 'newline'.\u001b[39;00m\n\u001b[0;32m    854\u001b[0m     \u001b[39mif\u001b[39;00m ioargs\u001b[39m.\u001b[39mencoding \u001b[39mand\u001b[39;00m \u001b[39m\"\u001b[39m\u001b[39mb\u001b[39m\u001b[39m\"\u001b[39m \u001b[39mnot\u001b[39;00m \u001b[39min\u001b[39;00m ioargs\u001b[39m.\u001b[39mmode:\n\u001b[0;32m    855\u001b[0m         \u001b[39m# Encoding\u001b[39;00m\n\u001b[1;32m--> 856\u001b[0m         handle \u001b[39m=\u001b[39m \u001b[39mopen\u001b[39m(\n\u001b[0;32m    857\u001b[0m             handle,\n\u001b[0;32m    858\u001b[0m             ioargs\u001b[39m.\u001b[39mmode,\n\u001b[0;32m    859\u001b[0m             encoding\u001b[39m=\u001b[39mioargs\u001b[39m.\u001b[39mencoding,\n\u001b[0;32m    860\u001b[0m             errors\u001b[39m=\u001b[39merrors,\n\u001b[0;32m    861\u001b[0m             newline\u001b[39m=\u001b[39m\u001b[39m\"\u001b[39m\u001b[39m\"\u001b[39m,\n\u001b[0;32m    862\u001b[0m         )\n\u001b[0;32m    863\u001b[0m     \u001b[39melse\u001b[39;00m:\n\u001b[0;32m    864\u001b[0m         \u001b[39m# Binary mode\u001b[39;00m\n\u001b[0;32m    865\u001b[0m         handle \u001b[39m=\u001b[39m \u001b[39mopen\u001b[39m(handle, ioargs\u001b[39m.\u001b[39mmode)\n",
      "\u001b[1;31mFileNotFoundError\u001b[0m: [Errno 2] No such file or directory: 'Posis_gaji.csv'"
     ]
    }
   ],
   "source": [
    "# import package\n",
    "import numpy as np\n",
    "import pandas as pd\n",
    "\n",
    "# baca data dari file CSV\n",
    "data = pd.read_csv('Posis_gaji.csv')\n",
    "# melihat beberapa data awal\n",
    "data.head()\n",
    "\n",
    "# mengecek ukuran data\n",
    "data.shape\n",
    "\n",
    "# informasi tentang data\n",
    "data.info()\n",
    "\n",
    "# deskripsi data\n",
    "data.describe()"
   ]
  },
  {
   "cell_type": "markdown",
   "metadata": {},
   "source": [
    "\n",
    "\n",
    "**Baca Data dari File CSV**: Kode selanjutnya menggunakan pandas untuk membaca data dari file CSV yang disebut 'Posis_gaji.csv'. Data dari file CSV tersebut dimuat ke dalam sebuah DataFrame yang disebut `data`.\n",
    "\n",
    "**Melihat Data Awal**: Dengan menggunakan metode `.head()`, kode menampilkan beberapa baris pertama dari DataFrame `data`. Ini membantu untuk memberikan gambaran awal tentang isi data.\n",
    "\n",
    "**Mengecek Ukuran Data**: Kode memanggil `.shape` untuk menampilkan ukuran data, yaitu jumlah baris dan kolom dalam DataFrame. Ini berguna untuk mengetahui seberapa besar datasetnya.\n",
    "\n",
    "**Informasi Tentang Data**: Dengan menggunakan metode `.info()`, kode menampilkan informasi tentang DataFrame, termasuk tipe data dan jumlah data yang tidak nol dalam setiap kolom. Ini berguna untuk memahami tipe data dan apakah ada nilai yang hilang dalam dataset.\n",
    "\n",
    "**Deskripsi Data**: Kode terakhir menggunakan metode `.describe()` untuk memberikan statistik deskriptif tentang data, seperti rata-rata, deviasi standar, nilai minimum, kuartil, dan nilai maksimum dari setiap kolom numerik dalam DataFrame. Ini memberikan wawasan awal tentang distribusi data."
   ]
  },
  {
   "cell_type": "code",
   "execution_count": 1,
   "metadata": {},
   "outputs": [
    {
     "ename": "NameError",
     "evalue": "name 'data' is not defined",
     "output_type": "error",
     "traceback": [
      "\u001b[1;31m---------------------------------------------------------------------------\u001b[0m",
      "\u001b[1;31mNameError\u001b[0m                                 Traceback (most recent call last)",
      "\u001b[1;32md:\\python\\jobsheet3\\praktikum1.ipynb Cell 5\u001b[0m line \u001b[0;36m6\n\u001b[0;32m      <a href='vscode-notebook-cell:/d%3A/python/jobsheet3/praktikum1.ipynb#W6sZmlsZQ%3D%3D?line=2'>3</a>\u001b[0m \u001b[39mimport\u001b[39;00m \u001b[39mseaborn\u001b[39;00m \u001b[39mas\u001b[39;00m \u001b[39msns\u001b[39;00m\n\u001b[0;32m      <a href='vscode-notebook-cell:/d%3A/python/jobsheet3/praktikum1.ipynb#W6sZmlsZQ%3D%3D?line=4'>5</a>\u001b[0m \u001b[39m# visualisasi korelasi dengan heatmap\u001b[39;00m\n\u001b[1;32m----> <a href='vscode-notebook-cell:/d%3A/python/jobsheet3/praktikum1.ipynb#W6sZmlsZQ%3D%3D?line=5'>6</a>\u001b[0m sns\u001b[39m.\u001b[39mheatmap(data\u001b[39m.\u001b[39mcorr(), cmap\u001b[39m=\u001b[39m\u001b[39m\"\u001b[39m\u001b[39mYlGnBu\u001b[39m\u001b[39m\"\u001b[39m, annot\u001b[39m=\u001b[39m\u001b[39mTrue\u001b[39;00m)\n\u001b[0;32m      <a href='vscode-notebook-cell:/d%3A/python/jobsheet3/praktikum1.ipynb#W6sZmlsZQ%3D%3D?line=6'>7</a>\u001b[0m plt\u001b[39m.\u001b[39mshow()\n",
      "\u001b[1;31mNameError\u001b[0m: name 'data' is not defined"
     ]
    }
   ],
   "source": [
    "# import library untuk visualisasi\n",
    "import matplotlib.pyplot as plt\n",
    "import seaborn as sns\n",
    "\n",
    "# visualisasi korelasi dengan heatmap\n",
    "sns.heatmap(data.corr(), cmap=\"YlGnBu\", annot=True)\n",
    "plt.show()"
   ]
  },
  {
   "cell_type": "markdown",
   "metadata": {},
   "source": [
    "Kode tersebut digunakan untuk membuat visualisasi korelasi antara variabel-variabel dalam dataset menggunakan heatmap.\n",
    "\n",
    "**Import Library untuk Visualisasi**: Kode dimulai dengan mengimpor dua pustaka, yaitu Matplotlib (`matplotlib.pyplot`) dan Seaborn (`seaborn`). Matplotlib digunakan untuk membuat plot dan grafik, sedangkan Seaborn adalah pustaka yang dibangun di atas Matplotlib dan digunakan untuk visualisasi data statistik yang lebih maju.\n",
    "\n",
    "**Visualisasi Korelasi dengan Heatmap**: Kode menggunakan fungsi `sns.heatmap()` dari Seaborn untuk membuat heatmap korelasi. Heatmap adalah representasi visual dari matriks korelasi, yang menggambarkan seberapa erat hubungan antara setiap pasangan variabel dalam dataset.\n",
    "\n",
    "   - `data.corr()`: Kode ini menghitung matriks korelasi antara semua pasangan variabel dalam DataFrame `data`.\n",
    "\n",
    "   - `cmap=\"YlGnBu\"`: Kode ini mengatur skema warna yang digunakan dalam heatmap. Dalam contoh ini, skema warna \"YlGnBu\" digunakan.\n",
    "\n",
    "   - `annot=True`: Kode ini mengatur untuk menampilkan angka-angka di dalam sel heatmap, yang merupakan nilai korelasi antara pasangan variabel.\n",
    "\n",
    "**Menampilkan Heatmap**: Kode terakhir menggunakan `plt.show()` dari Matplotlib untuk menampilkan heatmap ke layar.\n"
   ]
  },
  {
   "cell_type": "code",
   "execution_count": null,
   "metadata": {},
   "outputs": [],
   "source": [
    "# visualisasi data dengan pairplot\n",
    "sns.pairplot(data, x_vars=['Time on App', 'Time on Website', 'Length of Membership'],\n",
    "             y_vars='Yearly Amount Spent', size=4, aspect=1, kind='scatter')\n",
    "plt.show()"
   ]
  },
  {
   "cell_type": "markdown",
   "metadata": {},
   "source": [
    "Kode tersebut digunakan untuk membuat visualisasi menggunakan pairplot dari pustaka Seaborn (`sns`). Pairplot digunakan untuk membuat sejumlah scatter plot antara beberapa pasangan variabel dalam dataset yang berbeda. \n",
    "\n",
    "1. **Visualisasi Data dengan Pairplot**: Kode ini menggunakan fungsi `sns.pairplot()` dari Seaborn untuk membuat pairplot. Visualisasi ini digunakan untuk melihat hubungan antara beberapa variabel yang dipilih dalam dataset Anda.\n",
    "\n",
    "   - `data`: Parameter pertama adalah DataFrame `data` yang ingin Anda visualisasikan.\n",
    "\n",
    "   - `x_vars`: Parameter ini adalah daftar variabel yang akan digunakan sebagai sumbu-x dalam scatter plot. Dalam kode Anda, variabel 'Time on App', 'Time on Website', dan 'Length of Membership' digunakan sebagai sumbu-x.\n",
    "\n",
    "   - `y_vars`: Parameter ini adalah variabel yang akan digunakan sebagai sumbu-y dalam scatter plot. Dalam kode Anda, 'Yearly Amount Spent' digunakan sebagai sumbu-y.\n",
    "\n",
    "   - `size`: Parameter ini mengatur ukuran plot. Dalam kode Anda, plot memiliki ukuran 4.\n",
    "\n",
    "   - `aspect`: Parameter ini mengatur aspek ratio (rasio antara lebar dan tinggi) plot. Dalam kode Anda, aspek ratio adalah 1, yang berarti plotnya akan berbentuk persegi.\n",
    "\n",
    "   - `kind`: Parameter ini mengatur jenis plot yang akan digunakan dalam diagonal (plot pada saat variabel sama dengan dirinya sendiri). Dalam kode Anda, jenis plotnya adalah 'scatter', yang berarti scatter plot digunakan.\n",
    "\n",
    "2. **Menampilkan Pairplot**: Setelah mengatur parameter-parameter visualisasi, kode menggunakan `plt.show()` dari Matplotlib untuk menampilkan pairplot ke layar.\n"
   ]
  },
  {
   "cell_type": "code",
   "execution_count": null,
   "metadata": {},
   "outputs": [],
   "source": [
    "# Membuat variabel bebas X dan Y, contoh pengambilan dari analisis korelasi sebelumnya\n",
    "X = data['Length of Membership']\n",
    "y = data['Yearly Amount Spent']\n",
    "\n",
    "# Pembagian data latih dan data uji dengan proporsi 7:3\n",
    "from sklearn.model_selection import train_test_split\n",
    "X_train, X_test, y_train, y_test = train_test_split(X, y, train_size=0.7, test_size=0.3, random_state=100)\n",
    "\n",
    "# Training model\n",
    "import statsmodels.api as sm\n",
    "\n",
    "X_train_sm = sm.add_constant(X_train)\n",
    "lr = sm.OLS(y_train, X_train_sm).fit()\n",
    "\n",
    "# Visualisasi garis regresi\n",
    "plt.scatter(X_train, y_train)\n",
    "plt.plot(X_train, 265.2483 + 66.3015*X_train, 'r')\n",
    "plt.show()"
   ]
  },
  {
   "cell_type": "markdown",
   "metadata": {},
   "source": [
    "Kode tersebut adalah contoh proses regresi linear sederhana menggunakan pustaka `statsmodels` untuk menganalisis hubungan antara variabel \"Length of Membership\" (X) dan \"Yearly Amount Spent\" (Y). Berikut adalah kesimpulan dari kode tersebut:\n",
    "\n",
    "1. **Membuat Variabel Bebas X dan Y**: Anda membuat dua variabel, `X` dan `Y`, yang digunakan dalam analisis regresi. `X` adalah variabel independen (predictor) yang adalah \"Length of Membership,\" sedangkan `Y` adalah variabel dependen (target) yang adalah \"Yearly Amount Spent.\"\n",
    "\n",
    "2. **Pembagian Data Latih dan Data Uji**: Kode menggunakan `train_test_split` dari scikit-learn untuk membagi data menjadi data latih (`X_train` dan `y_train`) dan data uji (`X_test` dan `y_test`). Proporsi pembagian adalah 70% data latih dan 30% data uji, dengan `random_state` untuk mengatur seed agar hasil acak dapat direproduksi.\n",
    "\n",
    "3. **Training Model Regresi**: Anda menggunakan pustaka `statsmodels` untuk melatih model regresi linear. Model ini dilatih dengan data latih (`X_train` dan `y_train`) dan mencari persamaan garis regresi yang sesuai dengan data.\n",
    "\n",
    "4. **Visualisasi Garis Regresi**: Setelah model regresi dilatih, Anda membuat visualisasi scatter plot dari data latih (`X_train` dan `y_train`) dan menambahkan garis regresi yang telah ditemukan oleh model. Garis merah menunjukkan garis regresi yang menggambarkan hubungan antara \"Length of Membership\" dan \"Yearly Amount Spent\" berdasarkan hasil model.\n"
   ]
  },
  {
   "cell_type": "code",
   "execution_count": null,
   "metadata": {},
   "outputs": [],
   "source": [
    "# Prediksi nilai y_value dari data x yang telah dilatih\n",
    "y_train_pred = lr.predict(X_train_sm)\n",
    "\n",
    "# Menghitung residual\n",
    "res = (y_train - y_train_pred)\n",
    "\n",
    "# Histogram residual\n",
    "fig = plt.figure()\n",
    "sns.distplot(res, bins=15)\n",
    "plt.title('Error Terms', fontsize=15)\n",
    "plt.xlabel('y_train - y_train_pred', fontsize=15)\n",
    "plt.show()\n",
    "\n",
    "# Scatter plot residual\n",
    "plt.scatter(X_train, res)\n",
    "plt.show()"
   ]
  },
  {
   "cell_type": "markdown",
   "metadata": {},
   "source": [
    "Kode tersebut merupakan contoh analisis regresi linear sederhana yang digunakan untuk memprediksi nilai `y_value` dari data `x` yang telah dilatih. Setelah itu, kode melakukan analisis residual (error) dari model.\n",
    "\n",
    "1. **Prediksi Nilai `y_value`**: Anda menggunakan model regresi linear yang telah dilatih (`lr`) untuk melakukan prediksi nilai `y_train_pred` berdasarkan data `X_train_sm`. Ini adalah prediksi nilai `y` yang dihasilkan oleh model untuk data latih.\n",
    "\n",
    "2. **Menghitung Residual**: Kode menghitung residual dengan mengurangkan nilai sebenarnya (`y_train`) dengan nilai prediksi (`y_train_pred`). Residual adalah perbedaan antara nilai aktual dan nilai yang diprediksi oleh model. Residual ini mencerminkan kesalahan prediksi model.\n",
    "\n",
    "3. **Histogram Residual**: Kode membuat histogram residual dengan menggunakan pustaka Seaborn. Histogram ini menggambarkan distribusi dari error terms (residual). Dalam histogram ini, Anda dapat melihat seberapa baik atau buruk model regresi dalam menjelaskan variasi dalam data. Idealnya, distribusi residual harus mendekati distribusi normal.\n",
    "\n",
    "4. **Scatter Plot Residual**: Kode juga membuat scatter plot yang menunjukkan residual sebagai fungsi dari variabel `X_train`. Scatter plot ini membantu Anda untuk memvisualisasikan pola kesalahan yang terjadi dalam model regresi. Anda dapat melihat apakah ada pola tertentu dalam kesalahan atau apakah kesalahan tersebar secara merata.\n",
    "\n",
    "Kode ini membantu Anda dalam melakukan analisis residual setelah melatih model regresi. Ini penting untuk memahami sejauh mana model cocok dengan data dan apakah ada pola kesalahan yang perlu diperhatikan. Residual yang terdistribusi dengan baik dan tanpa pola menunjukkan bahwa model regresi mungkin sesuai dengan data dengan baik. Sebaliknya, pola yang terlihat dalam residual dapat mengindikasikan masalah dalam model yang perlu diperbaiki."
   ]
  },
  {
   "cell_type": "code",
   "execution_count": null,
   "metadata": {},
   "outputs": [],
   "source": [
    "# Prediksi pada data uji\n",
    "X_test_sm = sm.add_constant(X_test)\n",
    "y_test_pred = lr.predict(X_test_sm)\n",
    "\n",
    "# Hitung nilai R-squared\n",
    "from sklearn.metrics import r2_score\n",
    "\n",
    "r_squared = r2_score(y_test, y_test_pred)\n"
   ]
  },
  {
   "cell_type": "markdown",
   "metadata": {},
   "source": [
    "Kode ini digunakan untuk memprediksi nilai pada data uji dan menghitung nilai R-squared (R^2) untuk mengevaluasi kinerja model. Berikut adalah kesimpulan dari kode tersebut:\n",
    "\n",
    "1. **Prediksi pada Data Uji**: Anda menggunakan model regresi linear (`lr`) yang telah dilatih sebelumnya untuk melakukan prediksi pada data uji (`X_test`). Terlebih dahulu, Anda menambahkan konstanta ke data uji dengan menggunakan `sm.add_constant()` agar sesuai dengan model regresi yang dilatih. Hasil prediksi disimpan dalam variabel `y_test_pred`.\n",
    "\n",
    "2. **Hitung Nilai R-squared**: Anda menggunakan metode `r2_score` dari scikit-learn untuk menghitung nilai R-squared (R^2). Nilai R-squared digunakan untuk mengukur seberapa baik model regresi memfitting data uji. Nilai R-squared berkisar antara 0 hingga 1, dan semakin mendekati 1, semakin baik modelnya dalam menjelaskan variasi dalam data. Nilai R-squared yang lebih tinggi menunjukkan bahwa model lebih baik dalam memprediksi data uji.\n",
    "\n",
    "R-squared adalah salah satu metrik evaluasi yang umum digunakan dalam analisis regresi. Ini memberikan gambaran tentang sejauh mana model sesuai dengan data. Semakin tinggi nilai R-squared, semakin baik modelnya dalam menjelaskan variasi dalam data uji."
   ]
  },
  {
   "cell_type": "code",
   "execution_count": null,
   "metadata": {},
   "outputs": [],
   "source": [
    "# Visualisasi data uji dan hasil prediksi\n",
    "plt.scatter(X_test, y_test)\n",
    "plt.plot(X_test, y_test_pred, 'r')\n",
    "plt.show()"
   ]
  },
  {
   "cell_type": "markdown",
   "metadata": {},
   "source": [
    "\n",
    "\n",
    "1. **Visualisasi Data Uji dan Hasil Prediksi**:\n",
    "   - `plt.scatter(X_test, y_test)`: Kode ini membuat scatter plot menggunakan data uji. Sumbu-x (X_test) adalah variabel independen, dan sumbu-y (y_test) adalah nilai aktual yang Anda ingin prediksi. Titik-titik dalam scatter plot ini mewakili titik data aktual dari data uji.\n",
    "   \n",
    "   - `plt.plot(X_test, y_test_pred, 'r')`: Kode ini menambahkan garis merah ('r') ke plot yang menggambarkan hasil prediksi dari model regresi. Sumbu-x adalah variabel independen (X_test), dan sumbu-y adalah nilai yang diprediksi (y_test_pred) oleh model regresi.\n",
    "\n",
    "   - `plt.show()`: Kode ini digunakan untuk menampilkan plot ke layar.\n",
    "\n",
    "Dengan menjalankan kode ini, Anda dapat memvisualisasikan bagaimana hasil prediksi model regresi linear cocok dengan data uji yang sebenarnya. Jika model cocok dengan baik, garis merah yang menggambarkan hasil prediksi akan mengikuti pola titik-titik data uji. Plot ini membantu Anda dalam mengevaluasi sejauh mana model Anda cocok dengan data uji dan seberapa baik model Anda dalam memprediksi nilai target."
   ]
  }
 ],
 "metadata": {
  "kernelspec": {
   "display_name": "base",
   "language": "python",
   "name": "python3"
  },
  "language_info": {
   "codemirror_mode": {
    "name": "ipython",
    "version": 3
   },
   "file_extension": ".py",
   "mimetype": "text/x-python",
   "name": "python",
   "nbconvert_exporter": "python",
   "pygments_lexer": "ipython3",
   "version": "3.11.4"
  },
  "orig_nbformat": 4
 },
 "nbformat": 4,
 "nbformat_minor": 2
}
