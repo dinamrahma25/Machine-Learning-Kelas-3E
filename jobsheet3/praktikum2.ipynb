{
 "cells": [
  {
   "cell_type": "code",
   "execution_count": null,
   "metadata": {},
   "outputs": [],
   "source": [
    "# Mengimpor library\n",
    "import numpy as np\n",
    "import matplotlib.pyplot as plt\n",
    "import pandas as pd"
   ]
  },
  {
   "cell_type": "code",
   "execution_count": null,
   "metadata": {},
   "outputs": [],
   "source": [
    "# Mengimpor dataset (Pastikan Anda memiliki file CSV 'Posisi_gaji.csv' dalam direktori yang sama)\n",
    "dataset = pd.read_csv('Posisi_gaji.csv')\n",
    "X = dataset.iloc[:, 1:2].values\n",
    "y = dataset.iloc[:, 2].values  # Ubah menjadi satu kolom saja"
   ]
  },
  {
   "cell_type": "markdown",
   "metadata": {},
   "source": [
    "\n",
    "\n",
    "1. **Mengimpor Dataset**: Kode ini menggunakan pustaka pandas (`pd`) untuk mengimpor dataset dari file CSV yang disebut 'Posisi_gaji.csv' yang harus ada dalam direktori yang sama dengan kode. Dataset ini kemudian dimuat ke dalam variabel `dataset`.\n",
    "\n",
    "2. **Pemisahan Variabel Independen dan Variabel Dependan**:\n",
    "   - `X = dataset.iloc[:, 1:2].values`: Kode ini mengambil kolom kedua (indeks 1) dari dataset sebagai variabel independen (`X`). `.values` digunakan untuk mengonversi hasil seleksi menjadi array NumPy.\n",
    "   \n",
    "   - `y = dataset.iloc[:, 2].values`: Kode ini mengambil kolom ketiga (indeks 2) dari dataset sebagai variabel dependen (`y`). `.values` digunakan untuk mengonversi hasil seleksi menjadi array NumPy. \n"
   ]
  },
  {
   "cell_type": "code",
   "execution_count": null,
   "metadata": {},
   "outputs": [],
   "source": [
    "# Feature Scaling\n",
    "from sklearn.preprocessing import StandardScaler\n",
    "sc_X = StandardScaler()\n",
    "sc_y = StandardScaler()\n",
    "X = sc_X.fit_transform(X.reshape(-1, 1))\n",
    "y = sc_y.fit_transform(y.reshape(-1, 1))"
   ]
  },
  {
   "cell_type": "markdown",
   "metadata": {},
   "source": [
    "\n",
    "1. **Import Library untuk Feature Scaling**:\n",
    "   - Kode ini mengimpor pustaka `StandardScaler` dari scikit-learn (`sklearn.preprocessing`) yang digunakan untuk melakukan feature scaling.\n",
    "\n",
    "2. **Inisialisasi Scalers**:\n",
    "   - `sc_X = StandardScaler()`: Kode ini membuat objek `sc_X` yang akan digunakan untuk melakukan scaling pada variabel independen (`X`).\n",
    "   \n",
    "   - `sc_y = StandardScaler()`: Kode ini membuat objek `sc_y` yang akan digunakan untuk melakukan scaling pada variabel dependen (`y`).\n",
    "\n",
    "3. **Feature Scaling pada `X` dan `y`**:\n",
    "   - `X = sc_X.fit_transform(X.reshape(-1, 1))`: Kode ini melakukan feature scaling pada variabel independen (`X`) dengan menggunakan metode `fit_transform` dari objek `sc_X`. Variabel `X` diubah menjadi bentuk array 2D dengan `reshape(-1, 1)` agar sesuai dengan persyaratan `fit_transform`. Scaling dilakukan sehingga distribusi nilai dalam `X` memiliki rata-rata nol dan deviasi standar satu (mengikuti skala z-score).\n",
    "   \n",
    "   - `y = sc_y.fit_transform(y.reshape(-1, 1))`: Kode ini melakukan feature scaling pada variabel dependen (`y`) dengan menggunakan metode `fit_transform` dari objek `sc_y`. Variabel `y` juga diubah menjadi bentuk array 2D dengan `reshape(-1, 1)` agar sesuai dengan persyaratan `fit_transform`. Scaling dilakukan untuk mengubah distribusi nilai dalam `y` menjadi memiliki rata-rata nol dan deviasi standar satu.\n"
   ]
  },
  {
   "cell_type": "code",
   "execution_count": null,
   "metadata": {},
   "outputs": [],
   "source": [
    "# Fitting SVR ke dataset\n",
    "from sklearn.svm import SVR\n",
    "regressor = SVR(kernel='rbf')\n",
    "regressor.fit(X, y)\n",
    "\n",
    "# Visualisasi hasil SVR (resolusi tinggi dan kurva yang lebih halus)\n",
    "X_grid = np.arange(min(X), max(X), 0.01).reshape(-1, 1)\n",
    "plt.scatter(X, y, color='red')\n",
    "plt.plot(X_grid, regressor.predict(X_grid), color='blue')\n",
    "plt.title('Jujur atau tidak (SVR)')\n",
    "plt.xlabel('Tingkat posisi')\n",
    "plt.ylabel('Gaji')\n",
    "plt.show()"
   ]
  },
  {
   "cell_type": "markdown",
   "metadata": {},
   "source": [
    "\n",
    "1. **Import Library untuk SVR**:\n",
    "   - Kode ini mengimpor pustaka `SVR` dari scikit-learn (`sklearn.svm`) yang digunakan untuk membangun model SVR.\n",
    "\n",
    "2. **Inisialisasi dan Fitting Model SVR**:\n",
    "   - `regressor = SVR(kernel='rbf')`: Kode ini membuat objek `regressor` yang merupakan model SVR dengan kernel RBF. Kernel RBF (Radial Basis Function) digunakan untuk menghasilkan kurva yang lebih halus dalam model SVR.\n",
    "   \n",
    "   - `regressor.fit(X, y)`: Kode ini melatih model SVR menggunakan data `X` (variabel independen yang telah di-scale) dan `y` (variabel dependen yang telah di-scale).\n",
    "\n",
    "3. **Visualisasi Hasil SVR**:\n",
    "   - `X_grid = np.arange(min(X), max(X), 0.01).reshape(-1, 1)`: Kode ini membuat serangkaian titik data pada rentang nilai `X` dari nilai minimum hingga nilai maksimum dengan langkah 0.01. Ini digunakan untuk membuat plot hasil prediksi dengan resolusi tinggi dan kurva yang lebih halus.\n",
    "   \n",
    "   - `plt.scatter(X, y, color='red')`: Kode ini membuat scatter plot dari data aktual dengan warna merah.\n",
    "   \n",
    "   - `plt.plot(X_grid, regressor.predict(X_grid), color='blue')`: Kode ini membuat plot hasil prediksi dari model SVR menggunakan data `X_grid`. Kurva hasil prediksi ditampilkan dengan warna biru.\n",
    "   \n",
    "   - `plt.title('Jujur atau tidak (SVR)')`: Kode ini memberi judul pada plot.\n",
    "   \n",
    "   - `plt.xlabel('Tingkat posisi')` dan `plt.ylabel('Gaji')`: Kode ini memberi label pada sumbu-x dan sumbu-y dalam plot.\n",
    "\n",
    "   - `plt.show()`: Kode ini digunakan untuk menampilkan plot hasil prediksi SVR ke layar.\n"
   ]
  },
  {
   "cell_type": "code",
   "execution_count": null,
   "metadata": {},
   "outputs": [],
   "source": [
    "# Prediksi hasil\n",
    "# Buat array 2D yang berisi tingkat posisi yang akan diprediksi\n",
    "tingkat_posisi_prediksi = np.array([[6.5]])\n",
    "# Penskalaan fitur untuk data yang akan diprediksi\n",
    "tingkat_posisi_prediksi = sc_X.transform(tingkat_posisi_prediksi)\n",
    "# Melakukan prediksi menggunakan model SVR\n",
    "gaji_prediksi = regressor.predict(tingkat_posisi_prediksi)\n",
    "# Kembalikan hasil prediksi ke skala aslinya\n",
    "gaji_prediksi = sc_y.inverse_transform(gaji_prediksi.reshape(-1, 1))"
   ]
  },
  {
   "cell_type": "markdown",
   "metadata": {},
   "source": [
    "\n",
    "1. **Persiapan Tingkat Posisi yang Akan Diprediksi**:\n",
    "   - `tingkat_posisi_prediksi = np.array([[6.5]])`: Kode ini membuat array 2D yang berisi tingkat posisi yang akan diprediksi. Dalam contoh ini, tingkat posisi yang akan diprediksi adalah 6.5.\n",
    "\n",
    "2. **Penskalaan Fitur untuk Data yang Akan Diprediksi**:\n",
    "   - `tingkat_posisi_prediksi = sc_X.transform(tingkat_posisi_prediksi)`: Kode ini menggunakan objek `sc_X` (scaler untuk variabel independen) untuk melakukan penskalaan pada tingkat posisi yang akan diprediksi. Ini diperlukan karena sebelumnya kita telah melakukan scaling pada data pelatihan, jadi data yang akan diprediksi juga harus disesuaikan dengan skala yang sama.\n",
    "\n",
    "3. **Melakukan Prediksi Menggunakan Model SVR**:\n",
    "   - `gaji_prediksi = regressor.predict(tingkat_posisi_prediksi)`: Kode ini menggunakan model SVR (`regressor`) yang telah dilatih sebelumnya untuk memprediksi gaji berdasarkan tingkat posisi yang telah di-scale.\n",
    "\n",
    "4. **Kembalikan Hasil Prediksi ke Skala Aslinya**:\n",
    "   - `gaji_prediksi = sc_y.inverse_transform(gaji_prediksi.reshape(-1, 1))`: Kode ini menggunakan objek `sc_y` (scaler untuk variabel dependen) untuk mengembalikan hasil prediksi ke dalam skala aslinya. Hasil prediksi awalnya telah di-scale, jadi kita perlu mengembalikannya ke skala yang sesuai dengan data asli.\n"
   ]
  },
  {
   "cell_type": "code",
   "execution_count": null,
   "metadata": {},
   "outputs": [],
   "source": [
    "# Menampilkan hasil prediksi\n",
    "print(\"Prediksi Gaji untuk Tingkat Posisi 6.5:\", gaji_prediksi[0])"
   ]
  },
  {
   "cell_type": "markdown",
   "metadata": {},
   "source": [
    "Menampilkan hasil dari prediksi gaji secara informatif"
   ]
  },
  {
   "cell_type": "code",
   "execution_count": null,
   "metadata": {},
   "outputs": [],
   "source": [
    "# Evaluasi model\n",
    "from sklearn.metrics import mean_absolute_error, mean_squared_error, r2_score\n",
    "\n",
    "y_actual = y \n",
    "y_pred = regressor.predict(X)\n",
    "\n",
    "# Menghitung MAE\n",
    "mae = mean_absolute_error(y_actual, y_pred)\n",
    "\n",
    "# Menghitung MSE\n",
    "mse = mean_squared_error(y_actual, y_pred)\n",
    "\n",
    "# Menghitung RMSE\n",
    "rmse = np.sqrt(mse)\n",
    "\n",
    "# Menghitung R-squared\n",
    "r2 = r2_score(y_actual, y_pred)\n",
    "\n",
    "print(\"MAE:\", mae)\n",
    "print(\"MSE:\", mse)\n",
    "print(\"RMSE:\", rmse)\n",
    "print(\"R-squared:\", r2)"
   ]
  },
  {
   "cell_type": "markdown",
   "metadata": {},
   "source": [
    "\n",
    "1. **Evaluasi Model**:\n",
    "   - `from sklearn.metrics import mean_absolute_error, mean_squared_error, r2_score`: Kode ini mengimpor beberapa metrik evaluasi yang akan digunakan untuk mengevaluasi kinerja model regresi.\n",
    "\n",
    "2. **Definisi Variabel untuk Evaluasi**:\n",
    "   - `y_actual = y`: Kode ini mendefinisikan variabel `y_actual` yang berisi nilai aktual dari variabel dependen `y`.\n",
    "   \n",
    "   - `y_pred = regressor.predict(X)`: Kode ini menggunakan model SVR (`regressor`) untuk melakukan prediksi pada data `X` dan menyimpan hasil prediksi dalam variabel `y_pred`.\n",
    "\n",
    "3. **Menghitung Metrik Evaluasi**:\n",
    "   - `mae = mean_absolute_error(y_actual, y_pred)`: Kode ini menghitung Mean Absolute Error (MAE) yang merupakan rata-rata dari selisih absolut antara nilai aktual dan nilai prediksi. MAE mengukur seberapa dekat prediksi model dengan nilai aktual.\n",
    "\n",
    "   - `mse = mean_squared_error(y_actual, y_pred)`: Kode ini menghitung Mean Squared Error (MSE) yang merupakan rata-rata dari kuadrat selisih antara nilai aktual dan nilai prediksi. MSE mengukur seberapa besar kesalahan prediksi model.\n",
    "\n",
    "   - `rmse = np.sqrt(mse)`: Kode ini menghitung Root Mean Squared Error (RMSE) yang merupakan akar kuadrat dari MSE. RMSE memberikan gambaran kesalahan prediksi dalam unit aslinya.\n",
    "\n",
    "   - `r2 = r2_score(y_actual, y_pred)`: Kode ini menghitung nilai R-squared (R^2) yang mengukur sejauh mana variabilitas dalam data dapat dijelaskan oleh model. Nilai R-squared berkisar antara 0 hingga 1, dan semakin mendekati 1, semakin baik modelnya dalam menjelaskan variasi dalam data.\n",
    "\n",
    "4. **Cetak Metrik Evaluasi**:\n",
    "   - `print(\"MAE:\", mae)`: Kode ini mencetak nilai MAE ke layar.\n",
    "   \n",
    "   - `print(\"MSE:\", mse)`: Kode ini mencetak nilai MSE ke layar.\n",
    "\n",
    "   - `print(\"RMSE:\", rmse)`: Kode ini mencetak nilai RMSE ke layar.\n",
    "\n",
    "   - `print(\"R-squared:\", r2)`: Kode ini mencetak nilai R-squared ke layar.\n"
   ]
  }
 ],
 "metadata": {
  "language_info": {
   "name": "python"
  },
  "orig_nbformat": 4
 },
 "nbformat": 4,
 "nbformat_minor": 2
}
